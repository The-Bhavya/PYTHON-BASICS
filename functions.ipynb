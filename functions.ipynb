{
 "cells": [
  {
   "cell_type": "markdown",
   "metadata": {},
   "source": [
    "# Functions \n",
    "- predefined functions\n",
    "    - built-in functions\n",
    "      - print(),input(),len(),type(),int(),sum()\n",
    "    - module based functions\n",
    "      - local modules\n",
    "        - math\n",
    "        - datetime\n",
    "        - os\n",
    "        - turtle\n",
    "        - random\n",
    "      - 3rd party modules\n",
    "        - numpy\n",
    "        - pandas\n",
    "        - matplotlib\n",
    "        - dputils\n",
    "- user defined functions\n",
    "    - function with return value\n",
    "    - non-parameterized functions \n",
    "    - parametrized functions\n",
    "      - required parameters/named parameter\n",
    "      - default parameters\n",
    "      - variables args\n",
    "      - keyvalue variable args\n",
    "      - lambda\n",
    "      - map and filter"
   ]
  },
  {
   "cell_type": "markdown",
   "metadata": {},
   "source": [
    "# module based functions"
   ]
  },
  {
   "cell_type": "code",
   "execution_count": 1,
   "metadata": {},
   "outputs": [],
   "source": [
    "# import math module \n",
    "import math"
   ]
  },
  {
   "cell_type": "code",
   "execution_count": 2,
   "metadata": {},
   "outputs": [
    {
     "data": {
      "text/plain": [
       "3.141592653589793"
      ]
     },
     "execution_count": 2,
     "metadata": {},
     "output_type": "execute_result"
    }
   ],
   "source": [
    "math.pi"
   ]
  },
  {
   "cell_type": "code",
   "execution_count": 3,
   "metadata": {},
   "outputs": [
    {
     "data": {
      "text/plain": [
       "3628800"
      ]
     },
     "execution_count": 3,
     "metadata": {},
     "output_type": "execute_result"
    }
   ],
   "source": [
    "math.factorial(10)"
   ]
  },
  {
   "cell_type": "code",
   "execution_count": 4,
   "metadata": {},
   "outputs": [
    {
     "data": {
      "text/plain": [
       "-0.5440211108893698"
      ]
     },
     "execution_count": 4,
     "metadata": {},
     "output_type": "execute_result"
    }
   ],
   "source": [
    "# sin function gives the value in radians\n",
    "math.sin(10)"
   ]
  },
  {
   "cell_type": "code",
   "execution_count": 5,
   "metadata": {},
   "outputs": [
    {
     "data": {
      "text/plain": [
       "3"
      ]
     },
     "execution_count": 5,
     "metadata": {},
     "output_type": "execute_result"
    }
   ],
   "source": [
    "# floor round off the value to the lowest one\n",
    "math.floor(3.12930012309123)"
   ]
  },
  {
   "cell_type": "code",
   "execution_count": 6,
   "metadata": {},
   "outputs": [
    {
     "data": {
      "text/plain": [
       "4"
      ]
     },
     "execution_count": 6,
     "metadata": {},
     "output_type": "execute_result"
    }
   ],
   "source": [
    "# ceil round offs the value to the upper value\n",
    "math.ceil(3.129)"
   ]
  },
  {
   "cell_type": "code",
   "execution_count": 7,
   "metadata": {},
   "outputs": [],
   "source": [
    "from random import choice, randint"
   ]
  },
  {
   "cell_type": "code",
   "execution_count": 8,
   "metadata": {},
   "outputs": [
    {
     "name": "stdout",
     "output_type": "stream",
     "text": [
      "['😺', '🙉', '🦁', '🦊', '🦒', '🦝', '🐰', '🐻']\n",
      "your emoji is: \n",
      "🦊\n"
     ]
    }
   ],
   "source": [
    "data = ['😺','🙉','🦁','🦊','🦒','🦝','🐰','🐻']\n",
    "print(data)\n",
    "print(\"your emoji is: \")\n",
    "print(choice(data))"
   ]
  },
  {
   "cell_type": "code",
   "execution_count": 9,
   "metadata": {},
   "outputs": [
    {
     "name": "stdout",
     "output_type": "stream",
     "text": [
      "4\n"
     ]
    }
   ],
   "source": [
    "print(randint(1,6))"
   ]
  },
  {
   "cell_type": "code",
   "execution_count": 10,
   "metadata": {},
   "outputs": [],
   "source": [
    "# importing random function \n",
    "from random import sample, choices"
   ]
  },
  {
   "cell_type": "code",
   "execution_count": 11,
   "metadata": {},
   "outputs": [
    {
     "name": "stdout",
     "output_type": "stream",
     "text": [
      "😺 🐻 🐰 🦒 🦝\n"
     ]
    }
   ],
   "source": [
    "# using sample method\n",
    "out = sample(data, 5)\n",
    "print(*out)     # * here is a trick to unpack the list"
   ]
  },
  {
   "cell_type": "code",
   "execution_count": 12,
   "metadata": {},
   "outputs": [
    {
     "name": "stdout",
     "output_type": "stream",
     "text": [
      "🦒 🐻 🦝 🐰 🐻 🦁 🦒 🐰 🐰 🦒\n"
     ]
    }
   ],
   "source": [
    "# using choices\n",
    "out2 = choices(data, k=10)\n",
    "print(*out2)"
   ]
  },
  {
   "cell_type": "code",
   "execution_count": 13,
   "metadata": {},
   "outputs": [],
   "source": [
    "# import datetime module\n",
    "from datetime import datetime"
   ]
  },
  {
   "cell_type": "code",
   "execution_count": 14,
   "metadata": {},
   "outputs": [
    {
     "name": "stdout",
     "output_type": "stream",
     "text": [
      "2024-07-27 11:11:28.007705\n"
     ]
    }
   ],
   "source": [
    "# for printing current time \n",
    "print(datetime.now())"
   ]
  },
  {
   "cell_type": "code",
   "execution_count": 15,
   "metadata": {},
   "outputs": [
    {
     "name": "stdout",
     "output_type": "stream",
     "text": [
      "2024-07-27\n",
      "2024-07-27\n"
     ]
    }
   ],
   "source": [
    "# for printing current date\n",
    "date = datetime.date(datetime.now())\n",
    "print(date)\n",
    "time = datetime.time(datetime.now())\n",
    "print(date)"
   ]
  },
  {
   "cell_type": "code",
   "execution_count": 16,
   "metadata": {},
   "outputs": [
    {
     "name": "stdout",
     "output_type": "stream",
     "text": [
      "2024-07-27 11:11:28.030733\n",
      "2024/07/27\n"
     ]
    }
   ],
   "source": [
    "# formatting date \n",
    "now = datetime.now()\n",
    "print(now)\n",
    "formatted = now.strftime(\"%Y/%m/%d\")    # to get year as 2024 use Y\n",
    "print(formatted)"
   ]
  },
  {
   "cell_type": "code",
   "execution_count": 17,
   "metadata": {},
   "outputs": [
    {
     "name": "stdout",
     "output_type": "stream",
     "text": [
      "24/07/27\n"
     ]
    }
   ],
   "source": [
    "formatted = now.strftime(\"%y/%m/%d\")    # to get year as 24 use y\n",
    "print(formatted)"
   ]
  },
  {
   "cell_type": "code",
   "execution_count": 18,
   "metadata": {},
   "outputs": [],
   "source": [
    "import os"
   ]
  },
  {
   "cell_type": "code",
   "execution_count": 20,
   "metadata": {},
   "outputs": [
    {
     "name": "stdout",
     "output_type": "stream",
     "text": [
      "current location\n",
      "c:\\Users\\HP\\OneDrive\\assignment\\python data science\n"
     ]
    }
   ],
   "source": [
    "# to check the current directory\n",
    "print('current location')\n",
    "print(os.getcwd())"
   ]
  },
  {
   "cell_type": "code",
   "execution_count": 24,
   "metadata": {},
   "outputs": [
    {
     "name": "stdout",
     "output_type": "stream",
     "text": [
      "list of all files\n",
      "🗄️.git\n",
      "🗄️basics.ipynb\n",
      "🗄️conditions.ipynb\n",
      "🗄️dictionary.ipynb\n",
      "🗄️example1.py\n",
      "🗄️example2.py\n",
      "🗄️example3.py\n",
      "🗄️example4.py\n",
      "🗄️example5.py\n",
      "🗄️example6.py\n",
      "🗄️example7.py\n",
      "🗄️example8.py\n",
      "🗄️example9.py\n",
      "🗄️functions.ipynb\n",
      "🗄️io.ipynb\n",
      "🗄️Lists.ipynb\n",
      "🗄️Loops.ipynb\n",
      "🗄️pattern1.py\n",
      "🗄️pattern2.py\n",
      "🗄️sets.ipynb\n",
      "🗄️string.ipynb\n"
     ]
    }
   ],
   "source": [
    "# to see all files\n",
    "print('list of all files')\n",
    "content = os.listdir()\n",
    "for item in content:\n",
    "    print(f\"🗄️{item}\")"
   ]
  },
  {
   "cell_type": "code",
   "execution_count": 26,
   "metadata": {},
   "outputs": [
    {
     "name": "stdout",
     "output_type": "stream",
     "text": [
      "🗄️Common Files\n",
      "🗄️desktop.ini\n",
      "🗄️Git\n",
      "🗄️HP\n",
      "🗄️HPCommRecovery\n",
      "🗄️HPPrintScanDoctor\n",
      "🗄️Internet Explorer\n",
      "🗄️Microsoft\n",
      "🗄️Microsoft Office\n",
      "🗄️Microsoft Office 15\n",
      "🗄️Microsoft OneDrive\n",
      "🗄️Microsoft Update Health Tools\n",
      "🗄️ModifiableWindowsApps\n",
      "🗄️MySQL\n",
      "🗄️Online Services\n",
      "🗄️Uninstall Information\n",
      "🗄️VideoLAN\n",
      "🗄️Windows Defender\n",
      "🗄️Windows Mail\n",
      "🗄️Windows Media Player\n",
      "🗄️Windows NT\n",
      "🗄️Windows Photo Viewer\n",
      "🗄️Windows Sidebar\n",
      "🗄️WindowsApps\n",
      "🗄️WindowsPowerShell\n"
     ]
    }
   ],
   "source": [
    "content = os.listdir(\"C:/Program files\")\n",
    "for item in content:\n",
    "    print(f\"🗄️{item}\")"
   ]
  },
  {
   "cell_type": "code",
   "execution_count": 30,
   "metadata": {},
   "outputs": [
    {
     "name": "stdout",
     "output_type": "stream",
     "text": [
      "📁Common Files\n",
      "🗄️desktop.ini\n",
      "📁Git\n",
      "📁HP\n",
      "📁HPCommRecovery\n",
      "📁HPPrintScanDoctor\n",
      "📁Internet Explorer\n",
      "📁Microsoft\n",
      "📁Microsoft Office\n",
      "📁Microsoft Office 15\n",
      "📁Microsoft OneDrive\n",
      "📁Microsoft Update Health Tools\n",
      "📁ModifiableWindowsApps\n",
      "📁MySQL\n",
      "📁Online Services\n",
      "📁Uninstall Information\n",
      "📁VideoLAN\n",
      "📁Windows Defender\n",
      "📁Windows Mail\n",
      "📁Windows Media Player\n",
      "📁Windows NT\n",
      "📁Windows Photo Viewer\n",
      "📁Windows Sidebar\n",
      "📁WindowsApps\n",
      "📁WindowsPowerShell\n"
     ]
    }
   ],
   "source": [
    "content = os.listdir(\"C:/Program files\")    # \"C:/users/bhavya/documents\"\n",
    "for item in content:\n",
    "    path = f\"C:/Program files/{item}\"       # \"C:/users/bhavya/documents\"\n",
    "    #print(f\"{path}\")\n",
    "    is_file = os.path.isfile(path)\n",
    "    if is_file:\n",
    "        print(f\"🗄️{item}\")\n",
    "    else:\n",
    "        print(f\"📁{item}\")\n",
    "    "
   ]
  },
  {
   "cell_type": "code",
   "execution_count": 32,
   "metadata": {},
   "outputs": [
    {
     "name": "stdout",
     "output_type": "stream",
     "text": [
      "📁Common Files\n",
      "🗄️desktop.ini\n",
      "📁Git\n",
      "📁HP\n",
      "📁HPCommRecovery\n",
      "📁HPPrintScanDoctor\n",
      "📁Internet Explorer\n",
      "📁Microsoft\n",
      "📁Microsoft Office\n",
      "📁Microsoft Office 15\n",
      "📁Microsoft OneDrive\n",
      "📁Microsoft Update Health Tools\n",
      "📁ModifiableWindowsApps\n",
      "📁MySQL\n",
      "📁Online Services\n",
      "📁Uninstall Information\n",
      "📁VideoLAN\n",
      "📁Windows Defender\n",
      "📁Windows Mail\n",
      "📁Windows Media Player\n",
      "📁Windows NT\n",
      "📁Windows Photo Viewer\n",
      "📁Windows Sidebar\n",
      "📁WindowsApps\n",
      "📁WindowsPowerShell\n"
     ]
    }
   ],
   "source": [
    "content = os.listdir(\"C:/Program files\")\n",
    "for item in content:\n",
    "    path = f\"C:/Program files/{item}\"\n",
    "    #print(f\"{path}\")\n",
    "    is_file = os.path.isfile(path)\n",
    "    if is_file:\n",
    "        print(f\"🗄️{item}\")\n",
    "    else:\n",
    "        print(f\"📁{item}\")\n",
    "    "
   ]
  },
  {
   "cell_type": "code",
   "execution_count": 33,
   "metadata": {},
   "outputs": [],
   "source": [
    "os.makedirs(\"a/b/c\", exist_ok = True)"
   ]
  },
  {
   "cell_type": "code",
   "execution_count": 34,
   "metadata": {},
   "outputs": [],
   "source": [
    "os.makedirs(\"C:/important/work\", exist_ok=True)"
   ]
  },
  {
   "cell_type": "markdown",
   "metadata": {},
   "source": [
    "# User defined functions\n",
    "### stage 1 : defina a function(create)\n",
    "```python\n",
    "def fun_nuame([parameters...]):\n",
    "    statements\n",
    "    ...\n",
    "    [return valaue]\n",
    "```\n",
    "### stage 2 : call the function(use) \n",
    "fun_name([args..])"
   ]
  },
  {
   "cell_type": "code",
   "execution_count": 40,
   "metadata": {},
   "outputs": [],
   "source": [
    "def adder():\n",
    "    a = int(input(\"enter a number:\"))\n",
    "    b= int(input(\"enter second number:\"))\n",
    "    total = a + b\n",
    "    print(total)"
   ]
  },
  {
   "cell_type": "code",
   "execution_count": 42,
   "metadata": {},
   "outputs": [
    {
     "name": "stdout",
     "output_type": "stream",
     "text": [
      "50\n",
      "80\n",
      "160\n"
     ]
    }
   ],
   "source": [
    "adder()\n",
    "adder()\n",
    "adder()"
   ]
  },
  {
   "cell_type": "code",
   "execution_count": 67,
   "metadata": {},
   "outputs": [],
   "source": [
    "def adder(a,b):\n",
    "    total = a + b \n",
    "    # print(total)\n",
    "    return total"
   ]
  },
  {
   "cell_type": "code",
   "execution_count": 68,
   "metadata": {},
   "outputs": [
    {
     "data": {
      "text/plain": [
       "30"
      ]
     },
     "execution_count": 68,
     "metadata": {},
     "output_type": "execute_result"
    }
   ],
   "source": [
    "adder(10,20)"
   ]
  },
  {
   "cell_type": "code",
   "execution_count": 48,
   "metadata": {},
   "outputs": [
    {
     "name": "stdout",
     "output_type": "stream",
     "text": [
      "3698\n"
     ]
    }
   ],
   "source": [
    "x = 1299\n",
    "y = 2399\n",
    "adder(x,y)"
   ]
  },
  {
   "cell_type": "code",
   "execution_count": 69,
   "metadata": {},
   "outputs": [],
   "source": [
    "def simple_interest(p,r,t):\n",
    "    SI = (p*r*t)/100\n",
    "    amount = SI + p\n",
    "    # print(SI)\n",
    "    # print(amount)\n",
    "    return SI , amount"
   ]
  },
  {
   "cell_type": "code",
   "execution_count": 70,
   "metadata": {},
   "outputs": [
    {
     "data": {
      "text/plain": [
       "(0.6, 10.6)"
      ]
     },
     "execution_count": 70,
     "metadata": {},
     "output_type": "execute_result"
    }
   ],
   "source": [
    "simple_interest(10,2,3)"
   ]
  },
  {
   "cell_type": "code",
   "execution_count": 71,
   "metadata": {},
   "outputs": [],
   "source": [
    "def area_of_sphere(r):\n",
    "    area = 4 * 3.14 * r**2\n",
    "    # print(area)\n",
    "    return area"
   ]
  },
  {
   "cell_type": "code",
   "execution_count": 74,
   "metadata": {},
   "outputs": [
    {
     "data": {
      "text/plain": [
       "50.24"
      ]
     },
     "execution_count": 74,
     "metadata": {},
     "output_type": "execute_result"
    }
   ],
   "source": [
    "area_of_sphere(2)"
   ]
  },
  {
   "cell_type": "code",
   "execution_count": 75,
   "metadata": {},
   "outputs": [
    {
     "name": "stdout",
     "output_type": "stream",
     "text": [
      "21\n",
      "5538.96\n"
     ]
    }
   ],
   "source": [
    "ans = adder(15,6)\n",
    "print(ans)\n",
    "result = area_of_sphere(ans)\n",
    "print(result)"
   ]
  },
  {
   "cell_type": "code",
   "execution_count": 77,
   "metadata": {},
   "outputs": [
    {
     "name": "stdout",
     "output_type": "stream",
     "text": [
      "4\n"
     ]
    }
   ],
   "source": [
    "# WAF to count the number of words in a sentence\n",
    "def word_count(sentence):\n",
    "    words = sentence.split()\n",
    "    return len(words)\n",
    "sentence = \"I am a student\"\n",
    "print(word_count(sentence))"
   ]
  },
  {
   "cell_type": "code",
   "execution_count": 79,
   "metadata": {},
   "outputs": [
    {
     "name": "stdout",
     "output_type": "stream",
     "text": [
      "total words: 9\n"
     ]
    }
   ],
   "source": [
    "sentence = \"This is a long sentence with many words, okay \"\n",
    "size = word_count(sentence)\n",
    "print(f'total words: {size}')"
   ]
  },
  {
   "cell_type": "code",
   "execution_count": 1,
   "metadata": {},
   "outputs": [],
   "source": [
    "# required positional parameter\n",
    "def multiplier(a,b,c,d):\n",
    "    ans = a * b * c * d\n",
    "    return ans"
   ]
  },
  {
   "cell_type": "code",
   "execution_count": 9,
   "metadata": {},
   "outputs": [
    {
     "name": "stdout",
     "output_type": "stream",
     "text": [
      "80\n",
      "120\n",
      "50\n"
     ]
    }
   ],
   "source": [
    "print(multiplier(10,2,2,2))         # postional argument\n",
    "print(multiplier(a=2,b=3,c=4,d=5))  # keyword argument\n",
    "print(multiplier(1, 2, d=5, c=5))   # mix of positional argument "
   ]
  },
  {
   "cell_type": "code",
   "execution_count": 10,
   "metadata": {},
   "outputs": [],
   "source": [
    "# default parameter \n",
    "def multiplier_v2(a,b,c,d=1):\n",
    "    ans = a* b* c* d\n",
    "    return ans\n"
   ]
  },
  {
   "cell_type": "code",
   "execution_count": 15,
   "metadata": {},
   "outputs": [
    {
     "name": "stdout",
     "output_type": "stream",
     "text": [
      "24\n",
      "6\n"
     ]
    }
   ],
   "source": [
    "print(multiplier(1,2,3,4))\n",
    "print(multiplier_v2(1,2,3)) # d is an optional (default value = 1)"
   ]
  },
  {
   "cell_type": "code",
   "execution_count": 17,
   "metadata": {},
   "outputs": [],
   "source": [
    "def multiplier_v3(a=1,b=1,c=1,d=1):\n",
    "    ans = a* b* c* d\n",
    "    return ans"
   ]
  },
  {
   "cell_type": "code",
   "execution_count": 20,
   "metadata": {},
   "outputs": [
    {
     "name": "stdout",
     "output_type": "stream",
     "text": [
      "1\n",
      "10\n",
      "5\n",
      "30\n",
      "200\n"
     ]
    }
   ],
   "source": [
    "print(multiplier_v3())\n",
    "print(multiplier_v3(10))\n",
    "print(multiplier_v3(b=5))\n",
    "print(multiplier_v3(10, 3))\n",
    "print(multiplier_v3(10, c=20))"
   ]
  },
  {
   "cell_type": "code",
   "execution_count": 26,
   "metadata": {},
   "outputs": [
    {
     "name": "stdout",
     "output_type": "stream",
     "text": [
      "['Hello', 'World']\n"
     ]
    },
    {
     "data": {
      "text/plain": [
       "['Hell', ' W', 'rld']"
      ]
     },
     "execution_count": 26,
     "metadata": {},
     "output_type": "execute_result"
    }
   ],
   "source": [
    "print(\"Hello World\".split())\n",
    "\"Hello World\".split(sep='o')    # default parameter in pre-defined function"
   ]
  },
  {
   "cell_type": "code",
   "execution_count": 29,
   "metadata": {},
   "outputs": [
    {
     "name": "stdout",
     "output_type": "stream",
     "text": [
      "\n",
      "1|2|3|4|5|6|7|8|9|0|1\n"
     ]
    }
   ],
   "source": [
    "# variable length arguments\n",
    "print()\n",
    "print(1,2,3,4,5,6,7,8,9,0,1,sep='|')"
   ]
  },
  {
   "cell_type": "code",
   "execution_count": 36,
   "metadata": {},
   "outputs": [],
   "source": [
    "def stats(*nums, action='mean'):\n",
    "    if action == 'mean' :\n",
    "        total = sum(nums)\n",
    "        size = len(nums)\n",
    "        return total / size\n",
    "    elif action == 'sum':\n",
    "        return sum(nums)"
   ]
  },
  {
   "cell_type": "code",
   "execution_count": 37,
   "metadata": {},
   "outputs": [
    {
     "name": "stdout",
     "output_type": "stream",
     "text": [
      "5.0\n",
      "44.0\n",
      "12\n"
     ]
    }
   ],
   "source": [
    "print(stats(1,2,3,4,5,6,7,8,9))\n",
    "print(stats(22,33,44,55,66))\n",
    "print(stats(4,5,1,2, action = 'sum'))"
   ]
  },
  {
   "cell_type": "markdown",
   "metadata": {},
   "source": [
    "when defining a function:\n",
    "- only one parameter can be variable length parameter (*arg)\n",
    "- only one parameter can be variable length parameter (*kwarg)\n",
    "- default parameters should be at the end"
   ]
  },
  {
   "cell_type": "code",
   "execution_count": 42,
   "metadata": {},
   "outputs": [],
   "source": [
    "# variable length keyword argument \n",
    "def person (**details):\n",
    "    print(\"Details of the person\")\n",
    "    for k, v in details.items():\n",
    "        print(f\"{k:10}| {v}\")"
   ]
  },
  {
   "cell_type": "code",
   "execution_count": 45,
   "metadata": {},
   "outputs": [
    {
     "name": "stdout",
     "output_type": "stream",
     "text": [
      "Details of the person\n",
      "name      | Rahul\n",
      "Details of the person\n",
      "name      | Vijay\n",
      "age       | 22\n",
      "city      | Mumbai\n",
      "country   | India\n",
      "gender    | Male\n",
      "Details of the person\n",
      "name      | Arti\n",
      "age       | 20\n",
      "city      | Kanpur\n",
      "job       | Engineer\n"
     ]
    }
   ],
   "source": [
    "person(name='Rahul')\n",
    "person(name='Vijay',age=22,city='Mumbai',country='India',gender='Male')\n",
    "person(name='Arti',age=20,city='Kanpur',job='Engineer')\n"
   ]
  },
  {
   "cell_type": "markdown",
   "metadata": {},
   "source": [
    "lambda expression: simple equations as functions\n",
    "\n",
    "mathematical functoion:\n",
    "```\n",
    "f(x) = x**2 + 1\n",
    "g(x, y) = x**2 + y**2 + 1\n",
    "```\n",
    "lambda expression:\n",
    "``` python\n",
    "f = lambda x : x**2 + 1\n",
    "g = lambda x, y: x**2 + y**2 + 1"
   ]
  },
  {
   "cell_type": "code",
   "execution_count": 48,
   "metadata": {},
   "outputs": [
    {
     "data": {
      "text/plain": [
       "<function __main__.<lambda>(x)>"
      ]
     },
     "execution_count": 48,
     "metadata": {},
     "output_type": "execute_result"
    }
   ],
   "source": [
    "f = lambda x : x**2 + 1\n",
    "f"
   ]
  },
  {
   "cell_type": "code",
   "execution_count": 50,
   "metadata": {},
   "outputs": [
    {
     "name": "stdout",
     "output_type": "stream",
     "text": [
      "101\n",
      "5\n",
      "10001\n"
     ]
    }
   ],
   "source": [
    "print(f(10))\n",
    "print(f(2))\n",
    "print(f(100))"
   ]
  },
  {
   "cell_type": "code",
   "execution_count": 51,
   "metadata": {},
   "outputs": [
    {
     "name": "stdout",
     "output_type": "stream",
     "text": [
      "14\n",
      "26\n"
     ]
    }
   ],
   "source": [
    "g = lambda x, y: x**2 + y**2 + 1\n",
    "print(g(2,3))\n",
    "print(g(3,4))"
   ]
  },
  {
   "cell_type": "code",
   "execution_count": 56,
   "metadata": {},
   "outputs": [
    {
     "data": {
      "text/plain": [
       "[2, 5, 10, 17, 26, 37, 50, 65, 82, 101]"
      ]
     },
     "execution_count": 56,
     "metadata": {},
     "output_type": "execute_result"
    }
   ],
   "source": [
    "data = [1,2,3,4,5,6,7,8,9,10]\n",
    "f = lambda x: x**2 +1 \n",
    "list(map(f, data))"
   ]
  },
  {
   "cell_type": "code",
   "execution_count": 57,
   "metadata": {},
   "outputs": [
    {
     "data": {
      "text/plain": [
       "(2, 5, 10, 17, 26, 37, 50, 65, 82, 101)"
      ]
     },
     "execution_count": 57,
     "metadata": {},
     "output_type": "execute_result"
    }
   ],
   "source": [
    "tuple(map(f, data))"
   ]
  },
  {
   "cell_type": "code",
   "execution_count": 60,
   "metadata": {},
   "outputs": [
    {
     "data": {
      "text/plain": [
       "[102, 405, 910, 1617, 2526, 3637, 4950, 6465, 8182, 222]"
      ]
     },
     "execution_count": 60,
     "metadata": {},
     "output_type": "execute_result"
    }
   ],
   "source": [
    "data1 = [1,2,3,4,5,6,7,8,9,10]\n",
    "data2 = [10,20,30,40,50,60,70,80,90,11]\n",
    "g = lambda x, y: x**2 + y**2 + 1\n",
    "list(map(g, data1, data2))"
   ]
  }
 ],
 "metadata": {
  "kernelspec": {
   "display_name": "base",
   "language": "python",
   "name": "python3"
  },
  "language_info": {
   "codemirror_mode": {
    "name": "ipython",
    "version": 3
   },
   "file_extension": ".py",
   "mimetype": "text/x-python",
   "name": "python",
   "nbconvert_exporter": "python",
   "pygments_lexer": "ipython3",
   "version": "3.12.4"
  }
 },
 "nbformat": 4,
 "nbformat_minor": 2
}
