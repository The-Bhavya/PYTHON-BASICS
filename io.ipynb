{
 "cells": [
  {
   "cell_type": "markdown",
   "metadata": {},
   "source": [
    "### Python datatypes\n",
    "```\n",
    "- int      | 1 10 -20              | Integers \n",
    "- float    | .2 1.3 -2.3 1.5e10    | floa\"t\n",
    "- bool     | True, False           | Boolean\n",
    "- str      | 'hello', \"hello\"      | String\n",
    "- Nonetupe |  None                 | NO value\n",
    "- List     | [1,2,3]               | simlar to array \n",
    "- tuple    | (1,2,3)               | similar to array\n",
    "- set      | {1,2,3}               | similar to array \n",
    "- dict     | {\"a\": 'apple'}        | similar to hashmaps \n",
    "```"
   ]
  },
  {
   "cell_type": "code",
   "execution_count": 1,
   "metadata": {},
   "outputs": [
    {
     "name": "stdout",
     "output_type": "stream",
     "text": [
      "Hello, I am Alex\n"
     ]
    }
   ],
   "source": [
    "# print function to display \n",
    "print(\"Hello, I am Alex\")"
   ]
  },
  {
   "cell_type": "code",
   "execution_count": 2,
   "metadata": {},
   "outputs": [
    {
     "name": "stdout",
     "output_type": "stream",
     "text": [
      "Once upon a time\n",
      "there was a monkey\n",
      "sitting on a tree \n",
      "To be continued\n"
     ]
    }
   ],
   "source": [
    "print(\"Once upon a time\")\n",
    "print(\"there was a monkey\")\n",
    "print(\"sitting on a tree \")\n",
    "print(\"To be continued\")\n"
   ]
  },
  {
   "cell_type": "code",
   "execution_count": 3,
   "metadata": {},
   "outputs": [
    {
     "name": "stdout",
     "output_type": "stream",
     "text": [
      "10 20 200\n",
      "10 * 20 = 200\n"
     ]
    }
   ],
   "source": [
    "a=10 \n",
    "b=20 \n",
    "c = a * b \n",
    "print(a, b, c)\n",
    "print(a ,\"*\", b, \"=\", c)"
   ]
  },
  {
   "cell_type": "code",
   "execution_count": 8,
   "metadata": {},
   "outputs": [
    {
     "name": "stdout",
     "output_type": "stream",
     "text": [
      "Name: Sara , Age: 25 , Job: SDE 1\n"
     ]
    }
   ],
   "source": [
    "name = 'Sara'\n",
    "age = 25\n",
    "job = \"SDE 1\"\n",
    "print(\"Name:\",name, \", Age:\",age,\", Job:\", job)"
   ]
  },
  {
   "cell_type": "code",
   "execution_count": 10,
   "metadata": {},
   "outputs": [
    {
     "name": "stdout",
     "output_type": "stream",
     "text": [
      "Name: Sara\n",
      "Age: 25\n",
      "Job: SDE 1\n"
     ]
    }
   ],
   "source": [
    "print(\"Name:\",name)\n",
    "print(\"Age:\",age)\n",
    "print(\"Job:\",job)"
   ]
  },
  {
   "cell_type": "markdown",
   "metadata": {},
   "source": [
    "# formatting strings\n",
    "f-strings(python>=3.6)\n"
   ]
  },
  {
   "cell_type": "code",
   "execution_count": 33,
   "metadata": {},
   "outputs": [
    {
     "name": "stdout",
     "output_type": "stream",
     "text": [
      "Simple Interest Calculator\n",
      "____________________\n",
      "Principle=150000\n",
      "rate=2.5\n",
      "time=10\n",
      "Simple Interest = 37500.0\n"
     ]
    }
   ],
   "source": [
    "# Find the Simple Interest \n",
    "p = 150000 \n",
    "r = 2.5 \n",
    "t = 10\n",
    "SI = (p*r*t)/100\n",
    "print(\"Simple Interest Calculator\")\n",
    "print(\"_\"*20)\n",
    "print(f\"Principle={p}\" )\n",
    "print(f\"rate={r}\")\n",
    "print(f\"time={t}\") \n",
    "print(f\"Simple Interest = {SI}\")"
   ]
  },
  {
   "cell_type": "code",
   "execution_count": 45,
   "metadata": {},
   "outputs": [
    {
     "name": "stdout",
     "output_type": "stream",
     "text": [
      "Simple Interest Calculator\n",
      "--------------------------\n",
      "Principle             150K\n",
      "rate                  2.5%\n",
      "time                   10y\n",
      "--------------------------\n",
      "Simple Interest      37.5k\n",
      "--------------------------\n"
     ]
    }
   ],
   "source": [
    "# ALIGNMENT\n",
    "print(\"Simple Interest Calculator\")\n",
    "print(\"-\"*26\n",
    "      )\n",
    "print(f\"Principle {p//1000:15}K\" )\n",
    "print(f\"rate {r:20}%\")\n",
    "print(f\"time {t:20}y\") \n",
    "print(\"-\"*26)\n",
    "print(f\"Simple Interest {SI/1000:9}k\")\n",
    "print(\"-\"*26)"
   ]
  },
  {
   "cell_type": "code",
   "execution_count": 47,
   "metadata": {},
   "outputs": [
    {
     "name": "stdout",
     "output_type": "stream",
     "text": [
      "Kung fu panda\n",
      "You may like it but i dont care\n"
     ]
    }
   ],
   "source": [
    "# how to take input from user\n",
    "fav_movie = input(\"Plz Enter your favourite movie:\")\n",
    "print(fav_movie)\n",
    "print(\"You may like it but i dont care\")"
   ]
  },
  {
   "cell_type": "code",
   "execution_count": 49,
   "metadata": {},
   "outputs": [
    {
     "name": "stdout",
     "output_type": "stream",
     "text": [
      "Result is\n",
      "20\n"
     ]
    }
   ],
   "source": [
    "#TYPE CASTING\n",
    "a = int(input(\"enter a number\"))\n",
    "b = int(input(\"Enter another number\"))\n",
    "print(\"Result is\")\n",
    "print(a + b)"
   ]
  },
  {
   "cell_type": "code",
   "execution_count": 51,
   "metadata": {},
   "outputs": [
    {
     "name": "stdout",
     "output_type": "stream",
     "text": [
      "Result is\n",
      "20\n"
     ]
    }
   ],
   "source": [
    "a = int(input(\"enter a number\"))\n",
    "b = int(input(\"Enter another number\"))\n",
    "print(\"Result is\")\n",
    "print(int(a) + int(b))"
   ]
  }
 ],
 "metadata": {
  "kernelspec": {
   "display_name": "base",
   "language": "python",
   "name": "python3"
  },
  "language_info": {
   "codemirror_mode": {
    "name": "ipython",
    "version": 3
   },
   "file_extension": ".py",
   "mimetype": "text/x-python",
   "name": "python",
   "nbconvert_exporter": "python",
   "pygments_lexer": "ipython3",
   "version": "3.12.4"
  }
 },
 "nbformat": 4,
 "nbformat_minor": 2
}
