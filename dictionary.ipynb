{
 "cells": [
  {
   "cell_type": "markdown",
   "metadata": {},
   "source": [
    "DICTIONARY\n",
    "- how to delete it \n",
    "- how to access key and values of a dictionary \n",
    "- how to use loops in dictionary "
   ]
  },
  {
   "cell_type": "code",
   "execution_count": 1,
   "metadata": {},
   "outputs": [
    {
     "name": "stdout",
     "output_type": "stream",
     "text": [
      "{'name': 'John', 'class': '12th', 'rool_no': 12, 'age': 17}\n"
     ]
    }
   ],
   "source": [
    "student = {\n",
    "    \"name\"   : \"John\",\n",
    "    \"class\"  : \"12th\",\n",
    "    \"rool_no\": 12,\n",
    "    \"age\"    : 17\n",
    "}\n",
    "print(student)"
   ]
  },
  {
   "cell_type": "code",
   "execution_count": 4,
   "metadata": {},
   "outputs": [
    {
     "name": "stdout",
     "output_type": "stream",
     "text": [
      "{'Lucknow': [25, 30, 35], 'Delhi': [30, 35, 40], 'Chennai': [24, 23, 22]}\n"
     ]
    }
   ],
   "source": [
    "temp = {\n",
    "    'Lucknow' : [25,30,35],\n",
    "    'Delhi'   : [30,35,40],\n",
    "    'Chennai' : [24,23,22]\n",
    "}\n",
    "print(temp)"
   ]
  },
  {
   "cell_type": "code",
   "execution_count": 6,
   "metadata": {},
   "outputs": [
    {
     "name": "stdout",
     "output_type": "stream",
     "text": [
      "{'name': 'Tiya', 'age': 27, 'dept': 'HR', 'salary': '30000'}\n"
     ]
    }
   ],
   "source": [
    "# another method to take items in a dictinary\n",
    "info = dict(name = 'Tiya', age = 27, dept = 'HR', salary = '30000')\n",
    "print(info)"
   ]
  },
  {
   "cell_type": "code",
   "execution_count": 9,
   "metadata": {},
   "outputs": [
    {
     "name": "stdout",
     "output_type": "stream",
     "text": [
      "{'name': 'Jack', 'age': 27, 'dept': 'Finance', 'salary': 45000}\n"
     ]
    }
   ],
   "source": [
    "# taking input from user in a dictionary \n",
    "info2 = dict(name = input(\"enter your name\"), age = int(input(\"enter the age\")), dept = input(\"enter the department\"), salary = int(input(\"enter the salary\")))\n",
    "print(info2)"
   ]
  }
 ],
 "metadata": {
  "kernelspec": {
   "display_name": "base",
   "language": "python",
   "name": "python3"
  },
  "language_info": {
   "codemirror_mode": {
    "name": "ipython",
    "version": 3
   },
   "file_extension": ".py",
   "mimetype": "text/x-python",
   "name": "python",
   "nbconvert_exporter": "python",
   "pygments_lexer": "ipython3",
   "version": "3.12.4"
  }
 },
 "nbformat": 4,
 "nbformat_minor": 2
}
