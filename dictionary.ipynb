{
 "cells": [
  {
   "cell_type": "markdown",
   "metadata": {},
   "source": [
    "DICTIONARY\n",
    "- how to delete it \n",
    "- how to access key and values of a dictionary \n",
    "- how to use loops in dictionary "
   ]
  },
  {
   "cell_type": "code",
   "execution_count": 2,
   "metadata": {},
   "outputs": [
    {
     "name": "stdout",
     "output_type": "stream",
     "text": [
      "{'name': 'John', 'class': '12th', 'roll_no': 12, 'age': 17}\n"
     ]
    }
   ],
   "source": [
    "student = {\n",
    "    \"name\"   : \"John\",\n",
    "    \"class\"  : \"12th\",\n",
    "    \"roll_no\": 12,\n",
    "    \"age\"    : 17\n",
    "}\n",
    "print(student)"
   ]
  },
  {
   "cell_type": "code",
   "execution_count": 3,
   "metadata": {},
   "outputs": [
    {
     "name": "stdout",
     "output_type": "stream",
     "text": [
      "{'Lucknow': [25, 30, 35], 'Delhi': [30, 35, 40], 'Chennai': [24, 23, 22]}\n"
     ]
    }
   ],
   "source": [
    "temp = {\n",
    "    'Lucknow' : [25,30,35],\n",
    "    'Delhi'   : [30,35,40],\n",
    "    'Chennai' : [24,23,22]\n",
    "}\n",
    "print(temp)"
   ]
  },
  {
   "cell_type": "code",
   "execution_count": 4,
   "metadata": {},
   "outputs": [
    {
     "name": "stdout",
     "output_type": "stream",
     "text": [
      "{'name': 'Tiya', 'age': 27, 'dept': 'HR', 'salary': '30000'}\n"
     ]
    }
   ],
   "source": [
    "# another method to take items in a dictinary\n",
    "info = dict(name = 'Tiya', age = 27, dept = 'HR', salary = '30000')\n",
    "print(info)"
   ]
  },
  {
   "cell_type": "code",
   "execution_count": 5,
   "metadata": {},
   "outputs": [
    {
     "name": "stdout",
     "output_type": "stream",
     "text": [
      "{'name': 'john', 'age': 25, 'dept': 'hr', 'salary': 30000}\n"
     ]
    }
   ],
   "source": [
    "# taking input from user in a dictionary \n",
    "info2 = dict(name = input(\"enter your name\"), age = int(input(\"enter the age\")), dept = input(\"enter the department\"), salary = int(input(\"enter the salary\")))\n",
    "print(info2)"
   ]
  },
  {
   "cell_type": "code",
   "execution_count": 6,
   "metadata": {},
   "outputs": [
    {
     "name": "stdout",
     "output_type": "stream",
     "text": [
      "John\n",
      "12\n"
     ]
    }
   ],
   "source": [
    "# 1st methoed for accessing \n",
    "print(student['name'])\n",
    "print(student['roll_no'])\n"
   ]
  },
  {
   "cell_type": "code",
   "execution_count": 7,
   "metadata": {},
   "outputs": [
    {
     "name": "stdout",
     "output_type": "stream",
     "text": [
      "John\n",
      "12\n"
     ]
    }
   ],
   "source": [
    "# 2ns mwthod\n",
    "print(student.get('name'))\n",
    "print(student.get('roll_no'))"
   ]
  },
  {
   "cell_type": "code",
   "execution_count": 8,
   "metadata": {},
   "outputs": [
    {
     "name": "stdout",
     "output_type": "stream",
     "text": [
      "{'name': 'John', 'class': '12th', 'roll_no': 12, 'age': 17, 'school': 'DPS', 'city': 'Lucknow'}\n"
     ]
    }
   ],
   "source": [
    "# to add items in a dictionary\n",
    "student['school'] = 'DPS'\n",
    "student['city'] = 'Lucknow'\n",
    "print(student)"
   ]
  },
  {
   "cell_type": "code",
   "execution_count": 9,
   "metadata": {},
   "outputs": [
    {
     "name": "stdout",
     "output_type": "stream",
     "text": [
      "name\n",
      "class\n",
      "roll_no\n",
      "age\n",
      "school\n",
      "city\n"
     ]
    }
   ],
   "source": [
    "for x in student:\n",
    "    print(x)"
   ]
  },
  {
   "cell_type": "code",
   "execution_count": 10,
   "metadata": {},
   "outputs": [
    {
     "name": "stdout",
     "output_type": "stream",
     "text": [
      "name : John\n",
      "class : 12th\n",
      "roll_no : 12\n",
      "age : 17\n",
      "school : DPS\n",
      "city : Lucknow\n"
     ]
    }
   ],
   "source": [
    "for k, v in student.items():\n",
    "    print(f'{k} : {v}')"
   ]
  },
  {
   "cell_type": "code",
   "execution_count": 11,
   "metadata": {},
   "outputs": [
    {
     "name": "stdout",
     "output_type": "stream",
     "text": [
      "dict_keys(['name', 'class', 'roll_no', 'age', 'school', 'city'])\n"
     ]
    }
   ],
   "source": [
    "print(student.keys())"
   ]
  },
  {
   "cell_type": "code",
   "execution_count": 12,
   "metadata": {},
   "outputs": [
    {
     "name": "stdout",
     "output_type": "stream",
     "text": [
      "dict_values(['John', '12th', 12, 17, 'DPS', 'Lucknow'])\n"
     ]
    }
   ],
   "source": [
    "print(student.values())"
   ]
  },
  {
   "cell_type": "code",
   "execution_count": 13,
   "metadata": {},
   "outputs": [
    {
     "name": "stdout",
     "output_type": "stream",
     "text": [
      "dict_items([('name', 'John'), ('class', '12th'), ('roll_no', 12), ('age', 17), ('school', 'DPS'), ('city', 'Lucknow')])\n"
     ]
    }
   ],
   "source": [
    "print(student.items())"
   ]
  },
  {
   "cell_type": "code",
   "execution_count": 14,
   "metadata": {},
   "outputs": [
    {
     "name": "stdout",
     "output_type": "stream",
     "text": [
      "{'emp001': {'name': 'John', 'age': 27, 'dept': 'HR', 'salary': 30000}, 'emp002': {'name': 'Riya', 'age': 25, 'dept': 'IT', 'salary': 40000}, 'emp003': {'name': 'Mike', 'age': 30, 'dept': 'Finance', 'salary': 35000}}\n"
     ]
    }
   ],
   "source": [
    "# nested dictionary \n",
    "company = {\n",
    "    'emp001' :{\n",
    "        'name' : 'John',\n",
    "        'age' : 27,\n",
    "        'dept' : 'HR',\n",
    "        'salary' : 30000\n",
    "},\n",
    "'emp002' :{\n",
    "        'name' : 'Riya',\n",
    "        'age' : 25,\n",
    "        'dept' : 'IT',\n",
    "        'salary' : 40000\n",
    "},\n",
    "'emp003' :{\n",
    "        'name' : 'Mike',\n",
    "        'age' : 30,\n",
    "        'dept' : 'Finance',\n",
    "        'salary' : 35000\n",
    "}\n",
    "}\n",
    "print(company)\n"
   ]
  },
  {
   "cell_type": "code",
   "execution_count": 15,
   "metadata": {},
   "outputs": [],
   "source": [
    "from pprint import pp"
   ]
  },
  {
   "cell_type": "code",
   "execution_count": 16,
   "metadata": {},
   "outputs": [
    {
     "name": "stdout",
     "output_type": "stream",
     "text": [
      "{'emp001': {'name': 'John', 'age': 27, 'dept': 'HR', 'salary': 30000},\n",
      " 'emp002': {'name': 'Riya', 'age': 25, 'dept': 'IT', 'salary': 40000},\n",
      " 'emp003': {'name': 'Mike', 'age': 30, 'dept': 'Finance', 'salary': 35000}}\n"
     ]
    }
   ],
   "source": [
    "pp(company)"
   ]
  },
  {
   "cell_type": "code",
   "execution_count": 17,
   "metadata": {},
   "outputs": [
    {
     "name": "stdout",
     "output_type": "stream",
     "text": [
      "HR\n"
     ]
    }
   ],
   "source": [
    "print(company['emp001']['dept'])"
   ]
  },
  {
   "cell_type": "code",
   "execution_count": 18,
   "metadata": {},
   "outputs": [
    {
     "name": "stdout",
     "output_type": "stream",
     "text": [
      "{'emp001': {'name': 'John', 'age': 27, 'dept': 'HR', 'salary': 30000},\n",
      " 'emp002': {'name': 'Riya', 'age': 25, 'dept': 'IT', 'salary': 40000},\n",
      " 'emp003': {'name': 'Mike', 'age': 30, 'dept': 'Finance', 'salary': 35000},\n",
      " 'emp004': {'name': 'sam', 'age': 35, 'dept': 'Admin', 'salary': 25000}}\n"
     ]
    }
   ],
   "source": [
    "# adding data into nested dictionary\n",
    "company ['emp004'] = {\n",
    "    'name': 'sam',\n",
    "    'age' : 35,\n",
    "    'dept' : 'Admin',\n",
    "    'salary' : 25000\n",
    "}\n",
    "pp(company)"
   ]
  },
  {
   "cell_type": "code",
   "execution_count": 19,
   "metadata": {},
   "outputs": [
    {
     "name": "stdout",
     "output_type": "stream",
     "text": [
      "30\n",
      "40\n"
     ]
    }
   ],
   "source": [
    "# indexing in dictionary \n",
    "print(temp['Lucknow'][1])\n",
    "print(temp['Delhi'][2])"
   ]
  },
  {
   "cell_type": "code",
   "execution_count": 20,
   "metadata": {},
   "outputs": [
    {
     "name": "stdout",
     "output_type": "stream",
     "text": [
      "35.0\n"
     ]
    }
   ],
   "source": [
    "# to find the average temperature of delhi\n",
    "avg = sum(temp['Delhi'])/len(temp['Delhi'])\n",
    "print(avg)"
   ]
  },
  {
   "cell_type": "code",
   "execution_count": 23,
   "metadata": {},
   "outputs": [
    {
     "name": "stdout",
     "output_type": "stream",
     "text": [
      "{'Alex': {'English': 85, 'Maths': 80, 'Science': 78},\n",
      " 'Rahul': {'English': 80, 'Maths': 85, 'Science': 90}}\n"
     ]
    }
   ],
   "source": [
    "report = {\n",
    "    'Alex' : {\n",
    "        'English' : 85,\n",
    "        'Maths' : 80,\n",
    "        'Science' : 78\n",
    "    },\n",
    "    'Rahul' : {\n",
    "        'English' : 80,\n",
    "        'Maths' : 85,\n",
    "        'Science' : 90\n",
    "    }\n",
    "}\n",
    "pp(report)"
   ]
  },
  {
   "cell_type": "code",
   "execution_count": 24,
   "metadata": {},
   "outputs": [
    {
     "name": "stdout",
     "output_type": "stream",
     "text": [
      "Alex\n",
      "-> English 85\n",
      "-> Maths 80\n",
      "-> Science 78\n",
      "-> Total marks : 243\n",
      "Rahul\n",
      "-> English 80\n",
      "-> Maths 85\n",
      "-> Science 90\n",
      "-> Total marks : 255\n"
     ]
    }
   ],
   "source": [
    "for student , marks in report.items():\n",
    "    print(student)\n",
    "    for subject, mark in marks.items():\n",
    "        print('->', subject, mark)\n",
    "    print('-> Total marks :' , sum(marks.values()))"
   ]
  },
  {
   "cell_type": "code",
   "execution_count": null,
   "metadata": {},
   "outputs": [],
   "source": []
  }
 ],
 "metadata": {
  "kernelspec": {
   "display_name": "base",
   "language": "python",
   "name": "python3"
  },
  "language_info": {
   "codemirror_mode": {
    "name": "ipython",
    "version": 3
   },
   "file_extension": ".py",
   "mimetype": "text/x-python",
   "name": "python",
   "nbconvert_exporter": "python",
   "pygments_lexer": "ipython3",
   "version": "3.12.4"
  }
 },
 "nbformat": 4,
 "nbformat_minor": 2
}
