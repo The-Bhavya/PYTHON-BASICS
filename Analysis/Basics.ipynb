{
 "cells": [
  {
   "cell_type": "markdown",
   "metadata": {},
   "source": [
    "Pandas for Analysis\n",
    "- dataset\n",
    "    - dictionary of items\n",
    "    - list of items\n",
    "    - import csv files \n",
    "    - import excel files\n",
    "    - import jsn files\n",
    "- creating dataframe \n",
    "- reading data \n",
    "- selection of data \n",
    "- manipulating the data\n",
    "- cleaning the data\n",
    "- visualizing the data \n",
    "- saving the data "
   ]
  },
  {
   "cell_type": "markdown",
   "metadata": {},
   "source": []
  }
 ],
 "metadata": {
  "language_info": {
   "name": "python"
  }
 },
 "nbformat": 4,
 "nbformat_minor": 2
}
