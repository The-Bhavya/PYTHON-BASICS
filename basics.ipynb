{
 "cells": [
  {
   "cell_type": "code",
   "execution_count": 1,
   "metadata": {},
   "outputs": [],
   "source": [
    "a=10\n",
    "b=20\n",
    "name = \"Bhavya Sharma\"\n",
    "city = \"Lucknow\""
   ]
  },
  {
   "cell_type": "markdown",
   "metadata": {},
   "source": [
    "# operators \n",
    "- arithmetic\n",
    "- assignment\n",
    "- comparison\n",
    "- logical \n",
    "- membership \n",
    " - identity \n"
   ]
  },
  {
   "cell_type": "code",
   "execution_count": 5,
   "metadata": {},
   "outputs": [
    {
     "name": "stdout",
     "output_type": "stream",
     "text": [
      "13\n",
      "7\n",
      "30\n",
      "3.3333333333333335\n",
      "1\n",
      "1000\n",
      "3\n"
     ]
    },
    {
     "data": {
      "text/plain": [
       "437893890380859375"
      ]
     },
     "execution_count": 5,
     "metadata": {},
     "output_type": "execute_result"
    }
   ],
   "source": [
    "# Arithmetic Operators\n",
    "# + - * / % // **\n",
    "x = 10\n",
    "y = 3\n",
    "print(x + y)\n",
    "print(x - y)\n",
    "print(x * y)\n",
    "print(x / y)\n",
    "print(x % y) #remainder\n",
    "print(x ** y) # x to the power y\n",
    "print(x // y) # floor division"
   ]
  },
  {
   "cell_type": "code",
   "execution_count": 7,
   "metadata": {},
   "outputs": [
    {
     "name": "stdout",
     "output_type": "stream",
     "text": [
      "90\n",
      "10\n",
      "30\n"
     ]
    }
   ],
   "source": [
    "# Assignment Operators\n",
    "# = == -= *= /= %= //= **= \n",
    "a = 10\n",
    "b= a + 20 \n",
    "c = a + b \n",
    "c = c + 30 \n",
    "c += 30 \n",
    "c -= 10 \n",
    "print(c)\n",
    "print(a)\n",
    "print(b)\n"
   ]
  },
  {
   "cell_type": "code",
   "execution_count": 8,
   "metadata": {},
   "outputs": [
    {
     "name": "stdout",
     "output_type": "stream",
     "text": [
      "False\n",
      "True\n",
      "False\n",
      "True\n",
      "True\n",
      "False\n"
     ]
    }
   ],
   "source": [
    "# Comparison operators \n",
    "print(a > b )\n",
    "print(a < b )\n",
    "print(a >= b )\n",
    "print(a <= b )\n",
    "print(a != b )\n",
    "print(a == b )"
   ]
  },
  {
   "cell_type": "code",
   "execution_count": 12,
   "metadata": {},
   "outputs": [
    {
     "name": "stdout",
     "output_type": "stream",
     "text": [
      "False\n",
      "True\n",
      "True\n",
      "True\n",
      "False\n",
      "False\n"
     ]
    }
   ],
   "source": [
    "# Logical Operators \n",
    "# AND OR NOT\n",
    "print (a > b and a < b)\n",
    "print (a > b or a < b)\n",
    "print (a > 2 and a < b)\n",
    "print (a > 2 or a < b)\n",
    "print (not (a > 2 or a < b))\n",
    "print ( not a > 2)"
   ]
  },
  {
   "cell_type": "code",
   "execution_count": 13,
   "metadata": {},
   "outputs": [
    {
     "name": "stdout",
     "output_type": "stream",
     "text": [
      "False\n",
      "False\n",
      "True\n",
      "True\n",
      "True\n",
      "False\n"
     ]
    }
   ],
   "source": [
    "# Membership Operators \n",
    "# in \n",
    "name = \"Alexis\"\n",
    "print(\"h\" in name)\n",
    "print(\"a\" in name)\n",
    "print(\"A\" in name)\n",
    "print(\"x\" in name)\n",
    "nums = [10, 20, 30, 40, 50] #LISTS  \n",
    "print( 10 in nums)\n",
    "print(100 in nums)"
   ]
  },
  {
   "cell_type": "code",
   "execution_count": 17,
   "metadata": {},
   "outputs": [
    {
     "name": "stdout",
     "output_type": "stream",
     "text": [
      "True\n",
      "False\n",
      "False\n"
     ]
    }
   ],
   "source": [
    "# is (identity operator)\n",
    "x = 10 \n",
    "y = 10 \n",
    "print(x is y)\n",
    "print(x is not y)\n",
    "\n",
    "nums=[10, 20, 30]\n",
    "nums2 = nums.copy() # to copy same list we use copy() function \n",
    "print(nums is nums2)"
   ]
  }
 ],
 "metadata": {
  "kernelspec": {
   "display_name": "base",
   "language": "python",
   "name": "python3"
  },
  "language_info": {
   "codemirror_mode": {
    "name": "ipython",
    "version": 3
   },
   "file_extension": ".py",
   "mimetype": "text/x-python",
   "name": "python",
   "nbconvert_exporter": "python",
   "pygments_lexer": "ipython3",
   "version": "3.12.4"
  }
 },
 "nbformat": 4,
 "nbformat_minor": 2
}
