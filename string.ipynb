{
 "cells": [
  {
   "cell_type": "code",
   "execution_count": 4,
   "metadata": {},
   "outputs": [
    {
     "name": "stdout",
     "output_type": "stream",
     "text": [
      "l\n",
      "W\n"
     ]
    }
   ],
   "source": [
    "# indexing of string\n",
    "txt = \"Hello World\"\n",
    "print(txt[3])\n",
    "print(txt[6])"
   ]
  },
  {
   "cell_type": "code",
   "execution_count": 7,
   "metadata": {},
   "outputs": [
    {
     "name": "stdout",
     "output_type": "stream",
     "text": [
      "lo Wo\n"
     ]
    }
   ],
   "source": [
    "# slicing in string \n",
    "print(txt[3:8])"
   ]
  },
  {
   "cell_type": "code",
   "execution_count": 8,
   "metadata": {},
   "outputs": [
    {
     "name": "stdout",
     "output_type": "stream",
     "text": [
      "23\n"
     ]
    }
   ],
   "source": [
    "# string concatenation\n",
    "a = \"2\"\n",
    "b = \"3\"\n",
    "print(a+b)"
   ]
  },
  {
   "cell_type": "code",
   "execution_count": 13,
   "metadata": {},
   "outputs": [
    {
     "name": "stdout",
     "output_type": "stream",
     "text": [
      "HeyHeyHeyHeyHey\n"
     ]
    }
   ],
   "source": [
    "# string duplication\n",
    "word = \"Hey\"\n",
    "print(word*5 )"
   ]
  },
  {
   "cell_type": "code",
   "execution_count": 17,
   "metadata": {},
   "outputs": [
    {
     "data": {
      "text/plain": [
       "'BEAUTIFUL'"
      ]
     },
     "execution_count": 17,
     "metadata": {},
     "output_type": "execute_result"
    }
   ],
   "source": [
    "x = \"beautiful\"\n",
    "x.upper()               # to convert into uppercase "
   ]
  },
  {
   "cell_type": "code",
   "execution_count": 15,
   "metadata": {},
   "outputs": [
    {
     "data": {
      "text/plain": [
       "'beautiful'"
      ]
     },
     "execution_count": 15,
     "metadata": {},
     "output_type": "execute_result"
    }
   ],
   "source": [
    "x.lower()               # to convert into lowercase\n"
   ]
  },
  {
   "cell_type": "code",
   "execution_count": 16,
   "metadata": {},
   "outputs": [
    {
     "data": {
      "text/plain": [
       "'Beautiful'"
      ]
     },
     "execution_count": 16,
     "metadata": {},
     "output_type": "execute_result"
    }
   ],
   "source": [
    "x.capitalize()         # to capitalize the first letter"
   ]
  },
  {
   "cell_type": "code",
   "execution_count": 18,
   "metadata": {},
   "outputs": [
    {
     "data": {
      "text/plain": [
       "['You', 'are', 'fool']"
      ]
     },
     "execution_count": 18,
     "metadata": {},
     "output_type": "execute_result"
    }
   ],
   "source": [
    "# to split the string and give the output as list \n",
    "a = \"You are fool\"\n",
    "a.split()"
   ]
  },
  {
   "cell_type": "code",
   "execution_count": 20,
   "metadata": {},
   "outputs": [
    {
     "name": "stdout",
     "output_type": "stream",
     "text": [
      "Johny Johny yes papa\n",
      "eating sugar no papa \n",
      "telling a lie no papa \n",
      "open your mouth hahaha\n"
     ]
    }
   ],
   "source": [
    "# use triple quotes to print multiline in string \n",
    "poem = '''Johny Johny yes papa\n",
    "eating sugar no papa \n",
    "telling a lie no papa \n",
    "open your mouth hahaha'''\n",
    "print(poem)"
   ]
  },
  {
   "cell_type": "code",
   "execution_count": 25,
   "metadata": {},
   "outputs": [
    {
     "data": {
      "text/plain": [
       "3"
      ]
     },
     "execution_count": 25,
     "metadata": {},
     "output_type": "execute_result"
    }
   ],
   "source": [
    "# to get the number of times a character/word has occured\n",
    "poem.count(\"i\")"
   ]
  },
  {
   "cell_type": "code",
   "execution_count": 26,
   "metadata": {},
   "outputs": [
    {
     "data": {
      "text/plain": [
       "['Johny Johny yes papa',\n",
       " 'eating sugar no papa ',\n",
       " 'telling a lie no papa ',\n",
       " 'open your mouth hahaha']"
      ]
     },
     "execution_count": 26,
     "metadata": {},
     "output_type": "execute_result"
    }
   ],
   "source": [
    "# to get a list of each string\n",
    "poem.splitlines()"
   ]
  },
  {
   "cell_type": "code",
   "execution_count": 31,
   "metadata": {},
   "outputs": [
    {
     "name": "stdout",
     "output_type": "stream",
     "text": [
      "Ramu Ramu yes mama\n",
      "eating poison no mama \n",
      "telling a lie no mama \n",
      "open your mouth bhk bhk bhk\n"
     ]
    }
   ],
   "source": [
    "# finding and replacing the word in string\n",
    "b = poem.replace('papa','mama').replace('Johny','Ramu').replace('sugar','poison').replace('hahaha','bhk bhk bhk')\n",
    "print(b)"
   ]
  },
  {
   "cell_type": "code",
   "execution_count": 35,
   "metadata": {},
   "outputs": [
    {
     "name": "stdout",
     "output_type": "stream",
     "text": [
      "C:_Users_hp_Document\n"
     ]
    }
   ],
   "source": [
    "# to join different words of a list into a string \n",
    "path = ['C:','Users','hp','Document']\n",
    "print('_'.join(path))"
   ]
  }
 ],
 "metadata": {
  "kernelspec": {
   "display_name": "base",
   "language": "python",
   "name": "python3"
  },
  "language_info": {
   "codemirror_mode": {
    "name": "ipython",
    "version": 3
   },
   "file_extension": ".py",
   "mimetype": "text/x-python",
   "name": "python",
   "nbconvert_exporter": "python",
   "pygments_lexer": "ipython3",
   "version": "3.12.4"
  }
 },
 "nbformat": 4,
 "nbformat_minor": 2
}
