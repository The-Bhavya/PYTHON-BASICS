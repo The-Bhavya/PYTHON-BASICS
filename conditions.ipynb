{
 "cells": [
  {
   "cell_type": "markdown",
   "metadata": {},
   "source": [
    "Conditions in python \n",
    "- block of code\n",
    "    - `if`,`else`,`elif`,`while`,`for`,`try`,`except`,`finally`, `with`, `def`,`class`\n",
    "- if condition \n",
    "- if else condition \n",
    "- if elif ladder\n",
    "- nested if else \n",
    "- short hand if else \n",
    "- match case "
   ]
  },
  {
   "cell_type": "code",
   "execution_count": 4,
   "metadata": {},
   "outputs": [
    {
     "name": "stdout",
     "output_type": "stream",
     "text": [
      "a is greater than 5\n",
      "Hi\n",
      "bye\n"
     ]
    }
   ],
   "source": [
    "# if condition\n",
    "a = 10\n",
    "if a > 5:                           # Block of code \n",
    "    print(\"a is greater than 5\")\n",
    "    print(\"Hi\")\n",
    "print(\"bye\")"
   ]
  },
  {
   "cell_type": "code",
   "execution_count": 3,
   "metadata": {},
   "outputs": [
    {
     "name": "stdout",
     "output_type": "stream",
     "text": [
      "bye\n"
     ]
    }
   ],
   "source": [
    "a = -3\n",
    "if a > 5:                           # Block of code \n",
    "    print(\"a is greater than 5\")\n",
    "    print(\"Hi\")\n",
    "print(\"bye\")"
   ]
  },
  {
   "cell_type": "code",
   "execution_count": 6,
   "metadata": {},
   "outputs": [
    {
     "name": "stdout",
     "output_type": "stream",
     "text": [
      "Very good, you know how to type long word🥳\n"
     ]
    }
   ],
   "source": [
    "\n",
    "word = input(\"Enter a long word\")\n",
    "if len(word) > 10:\n",
    "    print(\"Very good, you know how to type long word🥳\")"
   ]
  },
  {
   "cell_type": "code",
   "execution_count": 11,
   "metadata": {},
   "outputs": [
    {
     "name": "stdout",
     "output_type": "stream",
     "text": [
      "yay 100 🥳\n"
     ]
    }
   ],
   "source": [
    "# if else codition \n",
    "n = [12,21,32,43]\n",
    "if sum(n) > 100:\n",
    "    print(\"yay 100 🥳\")\n",
    "else:\n",
    "    print(\"not 100 🤬\")"
   ]
  },
  {
   "cell_type": "code",
   "execution_count": 1,
   "metadata": {},
   "outputs": [
    {
     "name": "stdout",
     "output_type": "stream",
     "text": [
      "not 100 🤬\n"
     ]
    }
   ],
   "source": [
    "n = [1,21,32,43]\n",
    "if sum(n) > 100:\n",
    "    print(\"yay 100 🥳\")\n",
    "else:\n",
    "    print(\"not 100 🤬\")"
   ]
  },
  {
   "cell_type": "code",
   "execution_count": 6,
   "metadata": {},
   "outputs": [
    {
     "name": "stdout",
     "output_type": "stream",
     "text": [
      "grade is B\n"
     ]
    }
   ],
   "source": [
    "# if elif ladder\n",
    "\n",
    "marks = 80\n",
    "if marks > 85:\n",
    "    grade = 'A'\n",
    "elif marks > 70:\n",
    "    grade = 'B'\n",
    "elif marks > 60:\n",
    "    grade = 'C'\n",
    "elif marks > 50:\n",
    "    grade = 'D'\n",
    "else:\n",
    "    grade = 'F'\n",
    "print(f\"grade is {grade}\")\n",
    "\n"
   ]
  },
  {
   "cell_type": "code",
   "execution_count": 7,
   "metadata": {},
   "outputs": [
    {
     "name": "stdout",
     "output_type": "stream",
     "text": [
      "B 22 is the largest\n"
     ]
    }
   ],
   "source": [
    "# Find the largest number \n",
    "a = 10              # a, b, c = 10, 22, 14 \n",
    "b = 22 \n",
    "c = 14\n",
    "if a > b and a > c:\n",
    "    print(f\"A {b} is the largest\")\n",
    "elif b > a and b > c:\n",
    "    print(f\"B {b} is the largest\")\n",
    "else:\n",
    "    print(f\"C {c} is the largest\")"
   ]
  },
  {
   "cell_type": "code",
   "execution_count": 13,
   "metadata": {},
   "outputs": [
    {
     "name": "stdout",
     "output_type": "stream",
     "text": [
      "✅Welcome, Admin\n"
     ]
    }
   ],
   "source": [
    "# nested if else \n",
    "un = input(\"Enter a username\")\n",
    "pw = input(\"Enter a password\")\n",
    "if un != '' and pw  != '':         # if un and pw can also be written\n",
    "    if un == 'admin':\n",
    "        if pw == 'admin':\n",
    "            print(\"✅Welcome, Admin\")\n",
    "        else:\n",
    "            print(\"☠️Wrong Password\")\n",
    "    else:\n",
    "        print(\"🚫Invalid Username\")\n",
    "else:\n",
    "    print(\"Enter valid details☠️\")"
   ]
  },
  {
   "cell_type": "code",
   "execution_count": 18,
   "metadata": {},
   "outputs": [
    {
     "name": "stdout",
     "output_type": "stream",
     "text": [
      "✅\n",
      "✅\n"
     ]
    }
   ],
   "source": [
    "# shorthand if else \n",
    "a = 13\n",
    "print(\"✅\") if a >= 10 else print (\"❌\")\n",
    "print(\"✅\" if a >= 10 else \"❌\")\n"
   ]
  },
  {
   "cell_type": "code",
   "execution_count": 24,
   "metadata": {},
   "outputs": [
    {
     "name": "stdout",
     "output_type": "stream",
     "text": [
      "What would you like to eat\n",
      "Menu\n",
      "1. Pizza🍕\n",
      "2. Burger\n",
      "3. Pasta\n",
      "4. Sandwich\n",
      "Enter a number:\n",
      "Your order is Burger 🍔\n",
      "Total amt = 199\n"
     ]
    }
   ],
   "source": [
    "# match case (not similar to switch case)\n",
    "#Printing the menu and order by using match case \n",
    "print(\"What would you like to eat\")\n",
    "print(\"Menu\")\n",
    "print(\"1. Pizza🍕\")\n",
    "print(\"2. Burger\")\n",
    "print(\"3. Pasta\")\n",
    "print(\"4. Sandwich\")\n",
    "print(\"Enter a number:\")\n",
    "ch = int(input(\">>>\"))\n",
    "match ch:\n",
    "    case 1:\n",
    "        print(\"Your order is Pizaa 🍕\\nTotal amt = 400\")\n",
    "    case 2:\n",
    "        print(\"Your order is Burger 🍔\\nTotal amt = 199\")\n",
    "    case 3:\n",
    "        print(\"Your order is Pasta  🍝\\nTotal amt = 299\")\n",
    "    case 4:\n",
    "        print(\"Your order is Sandwich🥪\\nTotal amt = 99\")\n",
    "    case _:\n",
    "        print(\"Invalid Choice\")"
   ]
  },
  {
   "cell_type": "code",
   "execution_count": 25,
   "metadata": {},
   "outputs": [
    {
     "name": "stdout",
     "output_type": "stream",
     "text": [
      "What would you like to eat\n",
      "Menu\n",
      "1. Pizza🍕\n",
      "2. Burger\n",
      "3. Pasta\n",
      "4. Sandwich\n",
      "Enter a number:\n",
      "Your order is Pizaa 🍕\n",
      "Total amt = 400\n"
     ]
    }
   ],
   "source": [
    "# Printing the menu and the order by using if else condition \n",
    "print(\"What would you like to eat\")\n",
    "print(\"Menu\")\n",
    "print(\"1. Pizza🍕\")\n",
    "print(\"2. Burger\")\n",
    "print(\"3. Pasta\")\n",
    "print(\"4. Sandwich\")\n",
    "print(\"Enter a number:\")\n",
    "ch = int(input(\">>>\"))\n",
    "if ch == 1:\n",
    "    print(\"Your order is Pizaa 🍕\\nTotal amt = 400\")\n",
    "if ch == 2:\n",
    "    print(\"Your order is Burger 🍔\\nTotal amt = 199\")\n",
    "if ch == 3:\n",
    "    print(\"Your order is Pasta  🍝\\nTotal amt = 299\")\n",
    "if ch ==4:\n",
    "    print(\"Your order is Sandwich🥪\\nTotal amt = 99\")\n",
    "if ch == _:\n",
    "    print(\"Invalid Choice\")"
   ]
  },
  {
   "cell_type": "code",
   "execution_count": null,
   "metadata": {},
   "outputs": [],
   "source": []
  }
 ],
 "metadata": {
  "kernelspec": {
   "display_name": "base",
   "language": "python",
   "name": "python3"
  },
  "language_info": {
   "codemirror_mode": {
    "name": "ipython",
    "version": 3
   },
   "file_extension": ".py",
   "mimetype": "text/x-python",
   "name": "python",
   "nbconvert_exporter": "python",
   "pygments_lexer": "ipython3",
   "version": "3.12.4"
  }
 },
 "nbformat": 4,
 "nbformat_minor": 2
}
