{
 "cells": [
  {
   "cell_type": "markdown",
   "metadata": {},
   "source": [
    "Conditions in python \n",
    "- block of code\n",
    "    - `if`,`else`,`elif`,`while`,`for`,`try`,`except`,`finally`, `with`, `def`,`class`\n",
    "- if condition \n",
    "- if else condition \n",
    "- if elif ladder\n",
    "- nested if else \n",
    "- short hand if else \n",
    "- match case "
   ]
  },
  {
   "cell_type": "code",
   "execution_count": 4,
   "metadata": {},
   "outputs": [
    {
     "name": "stdout",
     "output_type": "stream",
     "text": [
      "a is greater than 5\n",
      "Hi\n",
      "bye\n"
     ]
    }
   ],
   "source": [
    "# if condition\n",
    "a = 10\n",
    "if a > 5:                           # Block of code \n",
    "    print(\"a is greater than 5\")\n",
    "    print(\"Hi\")\n",
    "print(\"bye\")"
   ]
  },
  {
   "cell_type": "code",
   "execution_count": 3,
   "metadata": {},
   "outputs": [
    {
     "name": "stdout",
     "output_type": "stream",
     "text": [
      "bye\n"
     ]
    }
   ],
   "source": [
    "a = -3\n",
    "if a > 5:                           # Block of code \n",
    "    print(\"a is greater than 5\")\n",
    "    print(\"Hi\")\n",
    "print(\"bye\")"
   ]
  },
  {
   "cell_type": "code",
   "execution_count": 6,
   "metadata": {},
   "outputs": [
    {
     "name": "stdout",
     "output_type": "stream",
     "text": [
      "Very good, you know how to type long word🥳\n"
     ]
    }
   ],
   "source": [
    "\n",
    "word = input(\"Enter a long word\")\n",
    "if len(word) > 10:\n",
    "    print(\"Very good, you know how to type long word🥳\")"
   ]
  },
  {
   "cell_type": "code",
   "execution_count": 11,
   "metadata": {},
   "outputs": [
    {
     "name": "stdout",
     "output_type": "stream",
     "text": [
      "yay 100 🥳\n"
     ]
    }
   ],
   "source": [
    "# if else codition \n",
    "n = [12,21,32,43]\n",
    "if sum(n) > 100:\n",
    "    print(\"yay 100 🥳\")\n",
    "else:\n",
    "    print(\"not 100 🤬\")"
   ]
  },
  {
   "cell_type": "code",
   "execution_count": 12,
   "metadata": {},
   "outputs": [
    {
     "name": "stdout",
     "output_type": "stream",
     "text": [
      "not 100 🤬\n"
     ]
    }
   ],
   "source": [
    "n = [1,21,32,43]\n",
    "if sum(n) > 100:\n",
    "    print(\"yay 100 🥳\")\n",
    "else:\n",
    "    print(\"not 100 🤬\")"
   ]
  }
 ],
 "metadata": {
  "kernelspec": {
   "display_name": "base",
   "language": "python",
   "name": "python3"
  },
  "language_info": {
   "codemirror_mode": {
    "name": "ipython",
    "version": 3
   },
   "file_extension": ".py",
   "mimetype": "text/x-python",
   "name": "python",
   "nbconvert_exporter": "python",
   "pygments_lexer": "ipython3",
   "version": "3.12.4"
  }
 },
 "nbformat": 4,
 "nbformat_minor": 2
}
